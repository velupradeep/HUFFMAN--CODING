{
 "cells": [
  {
   "cell_type": "code",
   "execution_count": null,
   "id": "e4329152-888e-4022-b7ae-6329e8762564",
   "metadata": {},
   "outputs": [],
   "source": []
  }
 ],
 "metadata": {
  "kernelspec": {
   "display_name": "",
   "name": ""
  },
  "language_info": {
   "name": ""
  }
 },
 "nbformat": 4,
 "nbformat_minor": 5
}
